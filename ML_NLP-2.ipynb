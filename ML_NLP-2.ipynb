{
 "cells": [
  {
   "cell_type": "code",
   "execution_count": 1,
   "id": "c5b2fe0f",
   "metadata": {},
   "outputs": [],
   "source": [
    "options(warn = - 1) "
   ]
  },
  {
   "cell_type": "code",
   "execution_count": 3,
   "id": "991e1ae3",
   "metadata": {},
   "outputs": [],
   "source": [
    "#install.packages(c('ISLR','MASS','class','rpart','rpart.plot','tree'))\n",
    "library(ISLR)\n",
    "library(MASS)\n",
    "library(class)\n",
    "library(rpart)\n",
    "library(rpart.plot)\n",
    "library(tree)"
   ]
  },
  {
   "cell_type": "markdown",
   "id": "8f1e11dc",
   "metadata": {},
   "source": [
    "# Classification\n",
    "\n",
    "### In this exercise, we will practice classification problem using logistic regression, LDA and KNN methods, and compare the model using out of sample data, base on confusion matrix.\n",
    "\n",
    "### Data: use iris data, 2-dimension with predictors Petal Length and Petal Width, Species only includes setosa and versicolor.\n",
    "\n",
    "## 1. Use 70% randomly picked observations as training data, train the logistic regression, LDA and KNN(3)."
   ]
  },
  {
   "cell_type": "markdown",
   "id": "145c5a6e",
   "metadata": {},
   "source": [
    "### Fetching Data"
   ]
  },
  {
   "cell_type": "code",
   "execution_count": 4,
   "id": "ad2d83ae",
   "metadata": {},
   "outputs": [],
   "source": [
    "da = iris[,c(-1,-2)] #Removing unuseful columns\n",
    "da = da[!da$Species==\"virginica\",] # ONLY setosa and versicolor"
   ]
  },
  {
   "cell_type": "markdown",
   "id": "7ea35746",
   "metadata": {},
   "source": [
    "### Creating Train & Test data (70:30)"
   ]
  },
  {
   "cell_type": "code",
   "execution_count": 6,
   "id": "89a9bde0",
   "metadata": {},
   "outputs": [],
   "source": [
    "train_idx = sample(1:nrow(da),size = 70,replace=FALSE)\n",
    "da_train = da[train_idx,] \n",
    "da_test = da[-train_idx,] "
   ]
  },
  {
   "cell_type": "markdown",
   "id": "bbd4cc64",
   "metadata": {},
   "source": [
    "### Logistic Regression Fit"
   ]
  },
  {
   "cell_type": "code",
   "execution_count": 7,
   "id": "e8466fc8",
   "metadata": {},
   "outputs": [],
   "source": [
    "logistic_fit = glm(Species ~ Petal.Length + Petal.Width, \n",
    "                   data = da , family = binomial,subset = train_idx)"
   ]
  },
  {
   "cell_type": "markdown",
   "id": "4884a03a",
   "metadata": {},
   "source": [
    "### Linear Discriminant Analysis(LDA) Fit"
   ]
  },
  {
   "cell_type": "code",
   "execution_count": 8,
   "id": "e1beaac0",
   "metadata": {},
   "outputs": [],
   "source": [
    "lda_fit = lda(Species ~ Petal.Length + Petal.Width,data = da, subset = train_idx)"
   ]
  },
  {
   "cell_type": "markdown",
   "id": "a2939880",
   "metadata": {},
   "source": [
    "### KNN(3) Fit"
   ]
  },
  {
   "cell_type": "code",
   "execution_count": 9,
   "id": "c02ed3e8",
   "metadata": {},
   "outputs": [],
   "source": [
    "train_x = da_train[,c(\"Petal.Length\",\"Petal.Width\")]\n",
    "train_y = da_train[,\"Species\"]\n",
    "test_x = da_test[,c(\"Petal.Length\",\"Petal.Width\")]\n",
    "\n",
    "set.seed(12)\n",
    "knn_pred = knn(train_x,test_x,train_y,k=3)\n"
   ]
  },
  {
   "cell_type": "markdown",
   "id": "bf88f021",
   "metadata": {},
   "source": [
    "## 2. The 30% held out data used to test against the models. Compare model performance based on confusion matrix for each model, and print out of sample error rate."
   ]
  },
  {
   "cell_type": "markdown",
   "id": "49fef135",
   "metadata": {},
   "source": [
    "### Logistic Regression Model Performance & Confusion Matrix."
   ]
  },
  {
   "cell_type": "code",
   "execution_count": 10,
   "id": "ec1775dd",
   "metadata": {},
   "outputs": [
    {
     "data": {
      "text/plain": [
       "             \n",
       "logistic_pred setosa versicolor virginica\n",
       "   setosa         15          0         0\n",
       "   versicolor      0         15         0"
      ]
     },
     "metadata": {},
     "output_type": "display_data"
    }
   ],
   "source": [
    "logistic_prob = predict(logistic_fit,da_test,type = \"response\") #Prediction for test data\n",
    "logistic_pred = rep(\"setosa\",nrow(da_test))\n",
    "\n",
    "logistic_pred[logistic_prob>0.5] = \"versicolor\"\n",
    "table(logistic_pred,da_test$Species)   #Confusuion Matrix\n",
    "\n"
   ]
  },
  {
   "cell_type": "code",
   "execution_count": 11,
   "id": "d73aab0f",
   "metadata": {},
   "outputs": [
    {
     "data": {
      "text/html": [
       "1"
      ],
      "text/latex": [
       "1"
      ],
      "text/markdown": [
       "1"
      ],
      "text/plain": [
       "[1] 1"
      ]
     },
     "metadata": {},
     "output_type": "display_data"
    }
   ],
   "source": [
    "mean(logistic_pred==da_test$Species)# Model Accuracy\n"
   ]
  },
  {
   "cell_type": "markdown",
   "id": "e59a7208",
   "metadata": {},
   "source": [
    "Model Accuracy is 100% for test data. Hence Out of Sample error is zero."
   ]
  },
  {
   "cell_type": "markdown",
   "id": "89dd4956",
   "metadata": {},
   "source": [
    "### LDA Performance & Confusion Matrix."
   ]
  },
  {
   "cell_type": "code",
   "execution_count": 12,
   "id": "b9b60207",
   "metadata": {},
   "outputs": [
    {
     "data": {
      "text/plain": [
       "Call:\n",
       "lda(Species ~ Petal.Length + Petal.Width, data = da, subset = train_idx)\n",
       "\n",
       "Prior probabilities of groups:\n",
       "    setosa versicolor \n",
       "       0.5        0.5 \n",
       "\n",
       "Group means:\n",
       "           Petal.Length Petal.Width\n",
       "setosa         1.468571   0.2542857\n",
       "versicolor     4.197143   1.2885714\n",
       "\n",
       "Coefficients of linear discriminants:\n",
       "                  LD1\n",
       "Petal.Length 2.232689\n",
       "Petal.Width  2.213895"
      ]
     },
     "metadata": {},
     "output_type": "display_data"
    }
   ],
   "source": [
    "lda_fit\n",
    "lda_pred = predict(lda_fit,da_test)  #Prediction for test data"
   ]
  },
  {
   "cell_type": "markdown",
   "id": "defb08a7",
   "metadata": {},
   "source": [
    "Prior Probabilities :\n",
    "\n",
    "setosa =  0.5142857\n",
    "\n",
    "versicolor = 0.4857143 \n",
    "\n",
    "\n",
    "These represent the proportions of each Species in the training set.\n",
    "\n",
    "For example, 51.4% of all observations in the training set were of species setosa.\n",
    "\n",
    "Group means: These display the mean values for each predictor variable for each species."
   ]
  },
  {
   "cell_type": "code",
   "execution_count": 13,
   "id": "efd483ca",
   "metadata": {},
   "outputs": [
    {
     "data": {
      "text/plain": [
       "            \n",
       "             setosa versicolor virginica\n",
       "  setosa         15          0         0\n",
       "  versicolor      0         15         0\n",
       "  virginica       0          0         0"
      ]
     },
     "metadata": {},
     "output_type": "display_data"
    }
   ],
   "source": [
    "table(lda_pred$class,da_test$Species)  #Confusuion Matrix"
   ]
  },
  {
   "cell_type": "code",
   "execution_count": 14,
   "id": "260df7f4",
   "metadata": {},
   "outputs": [
    {
     "data": {
      "text/html": [
       "1"
      ],
      "text/latex": [
       "1"
      ],
      "text/markdown": [
       "1"
      ],
      "text/plain": [
       "[1] 1"
      ]
     },
     "metadata": {},
     "output_type": "display_data"
    }
   ],
   "source": [
    "mean(lda_pred$class==da_test$Species)# Model Accuracy"
   ]
  },
  {
   "cell_type": "markdown",
   "id": "7a594210",
   "metadata": {},
   "source": [
    "Model Accuracy is 100% for test data. Hence Out of Sample error is zero."
   ]
  },
  {
   "cell_type": "markdown",
   "id": "e2dd8832",
   "metadata": {},
   "source": [
    "### KNN(3) Performance & Confusion Matrix."
   ]
  },
  {
   "cell_type": "code",
   "execution_count": 15,
   "id": "3b65f93c",
   "metadata": {},
   "outputs": [
    {
     "data": {
      "text/plain": [
       "            \n",
       "knn_pred     setosa versicolor virginica\n",
       "  setosa         15          0         0\n",
       "  versicolor      0         15         0\n",
       "  virginica       0          0         0"
      ]
     },
     "metadata": {},
     "output_type": "display_data"
    }
   ],
   "source": [
    "table(knn_pred,da_test$Species) #Confusion Matrix"
   ]
  },
  {
   "cell_type": "code",
   "execution_count": 16,
   "id": "6c257ee4",
   "metadata": {},
   "outputs": [
    {
     "data": {
      "text/html": [
       "1"
      ],
      "text/latex": [
       "1"
      ],
      "text/markdown": [
       "1"
      ],
      "text/plain": [
       "[1] 1"
      ]
     },
     "metadata": {},
     "output_type": "display_data"
    }
   ],
   "source": [
    "mean(knn_pred==da_test$Species) #Accuracy"
   ]
  },
  {
   "cell_type": "markdown",
   "id": "f1a3e22e",
   "metadata": {},
   "source": [
    "Model Accuracy is 100% for test data. Hence Out of Sample error is zero."
   ]
  },
  {
   "cell_type": "markdown",
   "id": "0026270b",
   "metadata": {},
   "source": [
    "# Tree Method\n",
    "\n",
    "### Use Carseats dataset in ISLR library. Predict Sales level based on other predictors in the dataset.\n",
    "\n",
    "## 1. Convert Sales into qualitative variable SalesGrp with four groups base on quartiles. Fit a classification tree, plot the tree, and interpret the results, what is the MSE?\n"
   ]
  },
  {
   "cell_type": "code",
   "execution_count": 17,
   "id": "84544fbf",
   "metadata": {},
   "outputs": [],
   "source": [
    "attach(Carseats)"
   ]
  },
  {
   "cell_type": "markdown",
   "id": "fb4ac59e",
   "metadata": {},
   "source": [
    "### Quantiles for salesgrp column creation"
   ]
  },
  {
   "cell_type": "code",
   "execution_count": 18,
   "id": "cc8c4bfb",
   "metadata": {},
   "outputs": [
    {
     "data": {
      "text/html": [
       "<style>\n",
       ".list-inline {list-style: none; margin:0; padding: 0}\n",
       ".list-inline>li {display: inline-block}\n",
       ".list-inline>li:not(:last-child)::after {content: \"\\00b7\"; padding: 0 .5ex}\n",
       "</style>\n",
       "<ol class=list-inline><li>0</li><li>5.39</li><li>7.49</li><li>9.32</li><li>16.27</li></ol>\n"
      ],
      "text/latex": [
       "\\begin{enumerate*}\n",
       "\\item 0\n",
       "\\item 5.39\n",
       "\\item 7.49\n",
       "\\item 9.32\n",
       "\\item 16.27\n",
       "\\end{enumerate*}\n"
      ],
      "text/markdown": [
       "1. 0\n",
       "2. 5.39\n",
       "3. 7.49\n",
       "4. 9.32\n",
       "5. 16.27\n",
       "\n",
       "\n"
      ],
      "text/plain": [
       "[1]  0.00  5.39  7.49  9.32 16.27"
      ]
     },
     "metadata": {},
     "output_type": "display_data"
    }
   ],
   "source": [
    "q = as.numeric(quantile(Sales))\n",
    "q\n",
    "set.seed(11)"
   ]
  },
  {
   "cell_type": "markdown",
   "id": "17b149b7",
   "metadata": {},
   "source": [
    "### Creating salesgrp column and replacing sales column with it."
   ]
  },
  {
   "cell_type": "code",
   "execution_count": 19,
   "id": "cead5036",
   "metadata": {},
   "outputs": [
    {
     "name": "stdout",
     "output_type": "stream",
     "text": [
      "'data.frame':\t400 obs. of  11 variables:\n",
      " $ CompPrice  : num  138 111 113 117 141 124 115 136 132 132 ...\n",
      " $ Income     : num  73 48 35 100 64 113 105 81 110 113 ...\n",
      " $ Advertising: num  11 16 10 4 3 13 0 15 0 0 ...\n",
      " $ Population : num  276 260 269 466 340 501 45 425 108 131 ...\n",
      " $ Price      : num  120 83 80 97 128 72 108 120 124 124 ...\n",
      " $ ShelveLoc  : Factor w/ 3 levels \"Bad\",\"Good\",\"Medium\": 1 2 3 3 1 1 3 2 3 3 ...\n",
      " $ Age        : num  42 65 59 55 38 78 71 67 76 76 ...\n",
      " $ Education  : num  17 10 12 14 13 16 15 10 10 17 ...\n",
      " $ Urban      : Factor w/ 2 levels \"No\",\"Yes\": 2 2 2 2 2 1 2 2 1 1 ...\n",
      " $ US         : Factor w/ 2 levels \"No\",\"Yes\": 2 2 2 2 1 2 1 2 1 2 ...\n",
      " $ salesgrp   : Factor w/ 4 levels \"high\",\"low\",\"very high\",..: 3 3 3 2 4 3 2 3 2 4 ...\n"
     ]
    }
   ],
   "source": [
    "Carseats$salesgrp[Sales < q[2]]<- \"very low\"\n",
    "Carseats$salesgrp[Sales >q[2] & Sales <q[3]] <- \"low\"\n",
    "Carseats$salesgrp[Sales >q[3] & Sales <q[4] ]<- \"high\"\n",
    "Carseats$salesgrp[Sales > q[4]] <- \"very high\"\n",
    "Carseats$salesgrp = as.factor(Carseats$salesgrp)  # Converting chr to factor datatype\n",
    "Carseats = Carseats[,-1]  #Deleting sales column\n",
    "str(Carseats)"
   ]
  },
  {
   "cell_type": "markdown",
   "id": "dd99da53",
   "metadata": {},
   "source": [
    "### Creating Test & Train dataset(75:25)"
   ]
  },
  {
   "cell_type": "code",
   "execution_count": 20,
   "id": "44a75fea",
   "metadata": {},
   "outputs": [
    {
     "data": {
      "text/html": [
       "<style>\n",
       ".list-inline {list-style: none; margin:0; padding: 0}\n",
       ".list-inline>li {display: inline-block}\n",
       ".list-inline>li:not(:last-child)::after {content: \"\\00b7\"; padding: 0 .5ex}\n",
       "</style>\n",
       "<ol class=list-inline><li>300</li><li>11</li></ol>\n"
      ],
      "text/latex": [
       "\\begin{enumerate*}\n",
       "\\item 300\n",
       "\\item 11\n",
       "\\end{enumerate*}\n"
      ],
      "text/markdown": [
       "1. 300\n",
       "2. 11\n",
       "\n",
       "\n"
      ],
      "text/plain": [
       "[1] 300  11"
      ]
     },
     "metadata": {},
     "output_type": "display_data"
    }
   ],
   "source": [
    "data_sample = sample(1:nrow(Carseats),size = nrow(Carseats)*0.75,replace=FALSE)\n",
    "train = Carseats[data_sample,] \n",
    "test = Carseats[-data_sample,] \n",
    "dim(train)"
   ]
  },
  {
   "cell_type": "markdown",
   "id": "9bb3e36c",
   "metadata": {},
   "source": [
    "### Classification Tree fit on train data to predict salesgrp (without pruning)"
   ]
  },
  {
   "cell_type": "code",
   "execution_count": 21,
   "id": "bc362a48",
   "metadata": {},
   "outputs": [],
   "source": [
    "tree_fit = rpart(train$salesgrp ~ .,method = \"class\" ,data=train)"
   ]
  },
  {
   "cell_type": "markdown",
   "id": "b57c9970",
   "metadata": {},
   "source": [
    "### Tree Plot"
   ]
  },
  {
   "cell_type": "code",
   "execution_count": 22,
   "id": "01483215",
   "metadata": {},
   "outputs": [
    {
     "data": {
      "image/png": "[encoded data removed]",
      "text/plain": [
       "plot without title"
      ]
     },
     "metadata": {
      "image/png": {
       "height": 420,
       "width": 420
      }
     },
     "output_type": "display_data"
    }
   ],
   "source": [
    "rpart.plot(tree_fit)"
   ]
  },
  {
   "cell_type": "code",
   "execution_count": 23,
   "id": "215ec7cd",
   "metadata": {},
   "outputs": [
    {
     "name": "stdout",
     "output_type": "stream",
     "text": [
      "\n",
      "Classification tree:\n",
      "rpart(formula = train$salesgrp ~ ., data = train, method = \"class\")\n",
      "\n",
      "Variables actually used in tree construction:\n",
      "[1] Advertising Age         CompPrice   Income      Price       ShelveLoc  \n",
      "\n",
      "Root node error: 220/297 = 0.74074\n",
      "\n",
      "n=297 (3 observations deleted due to missingness)\n",
      "\n",
      "        CP nsplit rel error  xerror     xstd\n",
      "1 0.168182      0   1.00000 1.05909 0.032208\n",
      "2 0.068182      1   0.83182 0.83182 0.038096\n",
      "3 0.050000      2   0.76364 0.83182 0.038096\n",
      "4 0.031818      3   0.71364 0.78636 0.038631\n",
      "5 0.027273      5   0.65000 0.75909 0.038862\n",
      "6 0.022727      6   0.62273 0.77273 0.038755\n",
      "7 0.015909      9   0.55455 0.78182 0.038674\n",
      "8 0.013636     11   0.52273 0.80000 0.038490\n",
      "9 0.010000     13   0.49545 0.80455 0.038439\n"
     ]
    },
    {
     "data": {
      "image/png": "[encoded data removed]",
      "text/plain": [
       "plot without title"
      ]
     },
     "metadata": {
      "image/png": {
       "height": 420,
       "width": 420
      }
     },
     "output_type": "display_data"
    },
    {
     "data": {
      "text/plain": [
       "NULL"
      ]
     },
     "metadata": {},
     "output_type": "display_data"
    },
    {
     "data": {
      "image/png": "[encoded data removed]",
      "text/plain": [
       "plot without title"
      ]
     },
     "metadata": {
      "image/png": {
       "height": 420,
       "width": 420
      }
     },
     "output_type": "display_data"
    }
   ],
   "source": [
    "rsq.rpart(tree_fit)[1]"
   ]
  },
  {
   "cell_type": "markdown",
   "id": "8d74a43f",
   "metadata": {},
   "source": [
    "The variables considered for the model are : Advertising, Age,CompPrice,Income,Price,ShelveLoc \n",
    "\n",
    "There are alot of nodes"
   ]
  },
  {
   "cell_type": "code",
   "execution_count": 25,
   "id": "7b29c533",
   "metadata": {},
   "outputs": [
    {
     "data": {
      "image/png": "[encoded data removed]",
      "text/plain": [
       "plot without title"
      ]
     },
     "metadata": {
      "image/png": {
       "height": 420,
       "width": 420
      }
     },
     "output_type": "display_data"
    }
   ],
   "source": [
    "plotcp(tree_fit)"
   ]
  },
  {
   "cell_type": "markdown",
   "id": "0734f867",
   "metadata": {},
   "source": [
    "The above graph indicates Tree size of 5 or 6 seems better. Any split above that is waste of computing power and\n",
    "causes negligible improvement on relative error. Lets check how the model fares with test data. Later we will prune the tree."
   ]
  },
  {
   "cell_type": "markdown",
   "id": "e5086a56",
   "metadata": {},
   "source": [
    "### Prediction & Performance of unpruned model"
   ]
  },
  {
   "cell_type": "code",
   "execution_count": 26,
   "id": "e1b82fd4",
   "metadata": {},
   "outputs": [
    {
     "data": {
      "text/plain": [
       "           \n",
       "pred        high low very high very low\n",
       "  high         4   3         3        2\n",
       "  low          8   9         2       12\n",
       "  very high   12   5        18        0\n",
       "  very low     2   8         1        9"
      ]
     },
     "metadata": {},
     "output_type": "display_data"
    }
   ],
   "source": [
    "pred = predict(tree_fit,test,type=\"class\")\n",
    "table(pred,test$salesgrp)"
   ]
  },
  {
   "cell_type": "code",
   "execution_count": 27,
   "id": "9184a0da",
   "metadata": {},
   "outputs": [
    {
     "name": "stdout",
     "output_type": "stream",
     "text": [
      "[1] \"Accuracy is:  0.408163265306122\"\n"
     ]
    }
   ],
   "source": [
    "print(paste(\"Accuracy is: \",sum(diag(table(pred,test$salesgrp)))/sum(table(pred,test$salesgrp))))"
   ]
  },
  {
   "cell_type": "markdown",
   "id": "53d9b632",
   "metadata": {},
   "source": [
    " Now lets prune the tree and again check accuracy for pruned tree."
   ]
  },
  {
   "cell_type": "markdown",
   "id": "a6597fd0",
   "metadata": {},
   "source": [
    "### Pruning the Tree:"
   ]
  },
  {
   "cell_type": "code",
   "execution_count": 28,
   "id": "ab063e99",
   "metadata": {},
   "outputs": [],
   "source": [
    "best = tree_fit$cptable[which.min(tree_fit$cptable[,\"xerror\"]),\"CP\"]\n",
    "tree_fit_p = prune(tree_fit,cp=best)"
   ]
  },
  {
   "cell_type": "code",
   "execution_count": 29,
   "id": "628308aa",
   "metadata": {},
   "outputs": [
    {
     "data": {
      "text/html": [
       "<table class=\"dataframe\">\n",
       "<caption>A matrix: 5 × 5 of type dbl</caption>\n",
       "<thead>\n",
       "\t<tr><th></th><th scope=col>CP</th><th scope=col>nsplit</th><th scope=col>rel error</th><th scope=col>xerror</th><th scope=col>xstd</th></tr>\n",
       "</thead>\n",
       "<tbody>\n",
       "\t<tr><th scope=row>1</th><td>0.16818182</td><td>0</td><td>1.0000000</td><td>1.0590909</td><td>0.03220824</td></tr>\n",
       "\t<tr><th scope=row>2</th><td>0.06818182</td><td>1</td><td>0.8318182</td><td>0.8318182</td><td>0.03809580</td></tr>\n",
       "\t<tr><th scope=row>3</th><td>0.05000000</td><td>2</td><td>0.7636364</td><td>0.8318182</td><td>0.03809580</td></tr>\n",
       "\t<tr><th scope=row>4</th><td>0.03181818</td><td>3</td><td>0.7136364</td><td>0.7863636</td><td>0.03863074</td></tr>\n",
       "\t<tr><th scope=row>5</th><td>0.02727273</td><td>5</td><td>0.6500000</td><td>0.7590909</td><td>0.03886235</td></tr>\n",
       "</tbody>\n",
       "</table>\n"
      ],
      "text/latex": [
       "A matrix: 5 × 5 of type dbl\n",
       "\\begin{tabular}{r|lllll}\n",
       "  & CP & nsplit & rel error & xerror & xstd\\\\\n",
       "\\hline\n",
       "\t1 & 0.16818182 & 0 & 1.0000000 & 1.0590909 & 0.03220824\\\\\n",
       "\t2 & 0.06818182 & 1 & 0.8318182 & 0.8318182 & 0.03809580\\\\\n",
       "\t3 & 0.05000000 & 2 & 0.7636364 & 0.8318182 & 0.03809580\\\\\n",
       "\t4 & 0.03181818 & 3 & 0.7136364 & 0.7863636 & 0.03863074\\\\\n",
       "\t5 & 0.02727273 & 5 & 0.6500000 & 0.7590909 & 0.03886235\\\\\n",
       "\\end{tabular}\n"
      ],
      "text/markdown": [
       "\n",
       "A matrix: 5 × 5 of type dbl\n",
       "\n",
       "| <!--/--> | CP | nsplit | rel error | xerror | xstd |\n",
       "|---|---|---|---|---|---|\n",
       "| 1 | 0.16818182 | 0 | 1.0000000 | 1.0590909 | 0.03220824 |\n",
       "| 2 | 0.06818182 | 1 | 0.8318182 | 0.8318182 | 0.03809580 |\n",
       "| 3 | 0.05000000 | 2 | 0.7636364 | 0.8318182 | 0.03809580 |\n",
       "| 4 | 0.03181818 | 3 | 0.7136364 | 0.7863636 | 0.03863074 |\n",
       "| 5 | 0.02727273 | 5 | 0.6500000 | 0.7590909 | 0.03886235 |\n",
       "\n"
      ],
      "text/plain": [
       "  CP         nsplit rel error xerror    xstd      \n",
       "1 0.16818182 0      1.0000000 1.0590909 0.03220824\n",
       "2 0.06818182 1      0.8318182 0.8318182 0.03809580\n",
       "3 0.05000000 2      0.7636364 0.8318182 0.03809580\n",
       "4 0.03181818 3      0.7136364 0.7863636 0.03863074\n",
       "5 0.02727273 5      0.6500000 0.7590909 0.03886235"
      ]
     },
     "metadata": {},
     "output_type": "display_data"
    }
   ],
   "source": [
    "tree_fit_p$cptable"
   ]
  },
  {
   "cell_type": "code",
   "execution_count": 30,
   "id": "b57c3055",
   "metadata": {},
   "outputs": [
    {
     "data": {
      "image/png": "[encoded data removed]",
      "text/plain": [
       "plot without title"
      ]
     },
     "metadata": {
      "image/png": {
       "height": 420,
       "width": 420
      }
     },
     "output_type": "display_data"
    }
   ],
   "source": [
    "rpart.plot(tree_fit_p)"
   ]
  },
  {
   "cell_type": "code",
   "execution_count": 31,
   "id": "daa23d24",
   "metadata": {},
   "outputs": [
    {
     "data": {
      "image/png": "[encoded data removed]",
      "text/plain": [
       "plot without title"
      ]
     },
     "metadata": {
      "image/png": {
       "height": 420,
       "width": 420
      }
     },
     "output_type": "display_data"
    }
   ],
   "source": [
    "plotcp(tree_fit_p)"
   ]
  },
  {
   "cell_type": "markdown",
   "id": "bc030a68",
   "metadata": {},
   "source": [
    "### Prediction & Performance of pruned model"
   ]
  },
  {
   "cell_type": "code",
   "execution_count": 32,
   "id": "93e9bd73",
   "metadata": {},
   "outputs": [
    {
     "data": {
      "text/plain": [
       "           \n",
       "pred_p      high low very high very low\n",
       "  high         1   0         0        0\n",
       "  low          9  14         3       11\n",
       "  very high   12   7        20        1\n",
       "  very low     4   4         1       11"
      ]
     },
     "metadata": {},
     "output_type": "display_data"
    }
   ],
   "source": [
    "pred_p = predict(tree_fit_p,test,type=\"class\")\n",
    "table(pred_p,test$salesgrp)"
   ]
  },
  {
   "cell_type": "code",
   "execution_count": 33,
   "id": "a582ec85",
   "metadata": {},
   "outputs": [
    {
     "name": "stdout",
     "output_type": "stream",
     "text": [
      "[1] \"Accuracy is:  0.469387755102041\"\n"
     ]
    }
   ],
   "source": [
    "print(paste(\"Accuracy is: \",sum(diag(table(pred_p,test$salesgrp)))/sum(table(pred_p,test$salesgrp))))\n"
   ]
  },
  {
   "cell_type": "markdown",
   "id": "8be58fd6",
   "metadata": {},
   "source": [
    "Accuracy for pruned model slightly increases.So, pruning not only helped to reduce complexity of model but also increased the accuracy."
   ]
  },
  {
   "cell_type": "markdown",
   "id": "1be01b5f",
   "metadata": {},
   "source": [
    "### Comparing Unpruned and Pruned models:"
   ]
  },
  {
   "cell_type": "code",
   "execution_count": 34,
   "id": "10a4ba87",
   "metadata": {},
   "outputs": [
    {
     "data": {
      "image/png": "[encoded data removed]",
      "text/plain": [
       "plot without title"
      ]
     },
     "metadata": {
      "image/png": {
       "height": 420,
       "width": 420
      }
     },
     "output_type": "display_data"
    }
   ],
   "source": [
    "par(mfrow=c(1,2))\n",
    "rpart.plot(tree_fit,digits=2)\n",
    "rpart.plot(tree_fit_p,digits=2)"
   ]
  },
  {
   "cell_type": "markdown",
   "id": "5e38cfb4",
   "metadata": {},
   "source": [
    "## 2. Use cross-validation in order to determine the optimal level of tree complexity(cp). Does pruning the tree improve the test MSE?"
   ]
  },
  {
   "cell_type": "code",
   "execution_count": 35,
   "id": "b7126d6a",
   "metadata": {},
   "outputs": [],
   "source": [
    "cv = tree(train$salesgrp ~ ., data = train,method = \"class\")"
   ]
  },
  {
   "cell_type": "code",
   "execution_count": 36,
   "id": "2c606a77",
   "metadata": {},
   "outputs": [
    {
     "data": {
      "image/png": "[encoded data removed]",
      "text/plain": [
       "plot without title"
      ]
     },
     "metadata": {
      "image/png": {
       "height": 420,
       "width": 420
      }
     },
     "output_type": "display_data"
    }
   ],
   "source": [
    "tree.carseats = tree(train$salesgrp ~ ., data = train,method = \"class\")\n",
    "cv.carseats=cv.tree(tree.carseats)\n",
    "plot(cv.carseats$size,cv.carseats$dev,type=\"b\")"
   ]
  },
  {
   "cell_type": "code",
   "execution_count": 37,
   "id": "506b750a",
   "metadata": {},
   "outputs": [
    {
     "data": {
      "image/png": "[encoded data removed]",
      "text/plain": [
       "plot without title"
      ]
     },
     "metadata": {
      "image/png": {
       "height": 420,
       "width": 420
      }
     },
     "output_type": "display_data"
    }
   ],
   "source": [
    "min.carseats=which.min(cv.carseats$dev)\n",
    "prune.carseats=prune.tree(tree.carseats,best=min.carseats)\n",
    "plot(prune.carseats)\n",
    "text(prune.carseats ,pretty=0)"
   ]
  },
  {
   "cell_type": "markdown",
   "id": "697cdc81",
   "metadata": {},
   "source": [
    "To Calculate MSE & better understanding of Cross Validation approach. Lets use regression tree instead of classification tree."
   ]
  },
  {
   "cell_type": "markdown",
   "id": "f2cae7dd",
   "metadata": {},
   "source": [
    "## Regression Tree fit:\n"
   ]
  },
  {
   "cell_type": "code",
   "execution_count": 38,
   "id": "fc3e43ee",
   "metadata": {},
   "outputs": [
    {
     "data": {
      "text/html": [
       "<table class=\"dataframe\">\n",
       "<caption>A data.frame: 6 × 11</caption>\n",
       "<thead>\n",
       "\t<tr><th></th><th scope=col>Sales</th><th scope=col>CompPrice</th><th scope=col>Income</th><th scope=col>Advertising</th><th scope=col>Population</th><th scope=col>Price</th><th scope=col>ShelveLoc</th><th scope=col>Age</th><th scope=col>Education</th><th scope=col>Urban</th><th scope=col>US</th></tr>\n",
       "\t<tr><th></th><th scope=col>&lt;dbl&gt;</th><th scope=col>&lt;dbl&gt;</th><th scope=col>&lt;dbl&gt;</th><th scope=col>&lt;dbl&gt;</th><th scope=col>&lt;dbl&gt;</th><th scope=col>&lt;dbl&gt;</th><th scope=col>&lt;fct&gt;</th><th scope=col>&lt;dbl&gt;</th><th scope=col>&lt;dbl&gt;</th><th scope=col>&lt;fct&gt;</th><th scope=col>&lt;fct&gt;</th></tr>\n",
       "</thead>\n",
       "<tbody>\n",
       "\t<tr><th scope=row>1</th><td> 9.50</td><td>138</td><td> 73</td><td>11</td><td>276</td><td>120</td><td>Bad   </td><td>42</td><td>17</td><td>Yes</td><td>Yes</td></tr>\n",
       "\t<tr><th scope=row>2</th><td>11.22</td><td>111</td><td> 48</td><td>16</td><td>260</td><td> 83</td><td>Good  </td><td>65</td><td>10</td><td>Yes</td><td>Yes</td></tr>\n",
       "\t<tr><th scope=row>3</th><td>10.06</td><td>113</td><td> 35</td><td>10</td><td>269</td><td> 80</td><td>Medium</td><td>59</td><td>12</td><td>Yes</td><td>Yes</td></tr>\n",
       "\t<tr><th scope=row>4</th><td> 7.40</td><td>117</td><td>100</td><td> 4</td><td>466</td><td> 97</td><td>Medium</td><td>55</td><td>14</td><td>Yes</td><td>Yes</td></tr>\n",
       "\t<tr><th scope=row>5</th><td> 4.15</td><td>141</td><td> 64</td><td> 3</td><td>340</td><td>128</td><td>Bad   </td><td>38</td><td>13</td><td>Yes</td><td>No </td></tr>\n",
       "\t<tr><th scope=row>6</th><td>10.81</td><td>124</td><td>113</td><td>13</td><td>501</td><td> 72</td><td>Bad   </td><td>78</td><td>16</td><td>No </td><td>Yes</td></tr>\n",
       "</tbody>\n",
       "</table>\n"
      ],
      "text/latex": [
       "A data.frame: 6 × 11\n",
       "\\begin{tabular}{r|lllllllllll}\n",
       "  & Sales & CompPrice & Income & Advertising & Population & Price & ShelveLoc & Age & Education & Urban & US\\\\\n",
       "  & <dbl> & <dbl> & <dbl> & <dbl> & <dbl> & <dbl> & <fct> & <dbl> & <dbl> & <fct> & <fct>\\\\\n",
       "\\hline\n",
       "\t1 &  9.50 & 138 &  73 & 11 & 276 & 120 & Bad    & 42 & 17 & Yes & Yes\\\\\n",
       "\t2 & 11.22 & 111 &  48 & 16 & 260 &  83 & Good   & 65 & 10 & Yes & Yes\\\\\n",
       "\t3 & 10.06 & 113 &  35 & 10 & 269 &  80 & Medium & 59 & 12 & Yes & Yes\\\\\n",
       "\t4 &  7.40 & 117 & 100 &  4 & 466 &  97 & Medium & 55 & 14 & Yes & Yes\\\\\n",
       "\t5 &  4.15 & 141 &  64 &  3 & 340 & 128 & Bad    & 38 & 13 & Yes & No \\\\\n",
       "\t6 & 10.81 & 124 & 113 & 13 & 501 &  72 & Bad    & 78 & 16 & No  & Yes\\\\\n",
       "\\end{tabular}\n"
      ],
      "text/markdown": [
       "\n",
       "A data.frame: 6 × 11\n",
       "\n",
       "| <!--/--> | Sales &lt;dbl&gt; | CompPrice &lt;dbl&gt; | Income &lt;dbl&gt; | Advertising &lt;dbl&gt; | Population &lt;dbl&gt; | Price &lt;dbl&gt; | ShelveLoc &lt;fct&gt; | Age &lt;dbl&gt; | Education &lt;dbl&gt; | Urban &lt;fct&gt; | US &lt;fct&gt; |\n",
       "|---|---|---|---|---|---|---|---|---|---|---|---|\n",
       "| 1 |  9.50 | 138 |  73 | 11 | 276 | 120 | Bad    | 42 | 17 | Yes | Yes |\n",
       "| 2 | 11.22 | 111 |  48 | 16 | 260 |  83 | Good   | 65 | 10 | Yes | Yes |\n",
       "| 3 | 10.06 | 113 |  35 | 10 | 269 |  80 | Medium | 59 | 12 | Yes | Yes |\n",
       "| 4 |  7.40 | 117 | 100 |  4 | 466 |  97 | Medium | 55 | 14 | Yes | Yes |\n",
       "| 5 |  4.15 | 141 |  64 |  3 | 340 | 128 | Bad    | 38 | 13 | Yes | No  |\n",
       "| 6 | 10.81 | 124 | 113 | 13 | 501 |  72 | Bad    | 78 | 16 | No  | Yes |\n",
       "\n"
      ],
      "text/plain": [
       "  Sales CompPrice Income Advertising Population Price ShelveLoc Age Education\n",
       "1  9.50 138        73    11          276        120   Bad       42  17       \n",
       "2 11.22 111        48    16          260         83   Good      65  10       \n",
       "3 10.06 113        35    10          269         80   Medium    59  12       \n",
       "4  7.40 117       100     4          466         97   Medium    55  14       \n",
       "5  4.15 141        64     3          340        128   Bad       38  13       \n",
       "6 10.81 124       113    13          501         72   Bad       78  16       \n",
       "  Urban US \n",
       "1 Yes   Yes\n",
       "2 Yes   Yes\n",
       "3 Yes   Yes\n",
       "4 Yes   Yes\n",
       "5 Yes   No \n",
       "6 No    Yes"
      ]
     },
     "metadata": {},
     "output_type": "display_data"
    }
   ],
   "source": [
    "rm(Carseats)  \n",
    "library(ISLR)\n",
    "set.seed(1)\n",
    "num.rows = nrow(Carseats)\n",
    "train = sample(1:num.rows, num.rows*0.75) # Sample of indices for training (75/25 split)\n",
    "head(Carseats)"
   ]
  },
  {
   "cell_type": "code",
   "execution_count": 39,
   "id": "412fdeb3",
   "metadata": {},
   "outputs": [
    {
     "data": {
      "text/plain": [
       "node), split, n, deviance, yval\n",
       "      * denotes terminal node\n",
       "\n",
       " 1) root 300 2385.000  7.640  \n",
       "   2) ShelveLoc: Bad,Medium 226 1349.000  6.818  \n",
       "     4) Price < 105.5 74  389.300  8.314  \n",
       "       8) Age < 49.5 26   83.180  9.914  \n",
       "        16) Income < 61 9   10.930  8.329 *\n",
       "        17) Income > 61 17   37.660 10.750 *\n",
       "       9) Age > 49.5 48  203.500  7.447  \n",
       "        18) Price < 91.5 16   36.900  9.043 *\n",
       "        19) Price > 91.5 32  105.400  6.649  \n",
       "          38) CompPrice < 123.5 24   52.760  5.966 *\n",
       "          39) CompPrice > 123.5 8    7.882  8.699 *\n",
       "     5) Price > 105.5 152  713.400  6.089  \n",
       "      10) CompPrice < 124.5 53  191.000  4.990  \n",
       "        20) Age < 33 11   26.100  6.882 *\n",
       "        21) Age > 33 42  115.200  4.494 *\n",
       "      11) CompPrice > 124.5 99  424.000  6.678  \n",
       "        22) Price < 126.5 45  134.500  7.667  \n",
       "          44) Advertising < 3.5 25   56.830  6.689 *\n",
       "          45) Advertising > 3.5 20   23.870  8.890 *\n",
       "        23) Price > 126.5 54  208.700  5.854  \n",
       "          46) CompPrice < 147.5 40  147.000  5.384  \n",
       "            92) Advertising < 13.5 35  105.000  5.076 *\n",
       "            93) Advertising > 13.5 5   15.470  7.538 *\n",
       "          47) CompPrice > 147.5 14   27.620  7.198 *\n",
       "   3) ShelveLoc: Good 74  416.300 10.150  \n",
       "     6) Price < 109.5 27   68.300 12.040 *\n",
       "     7) Price > 109.5 47  196.800  9.067  \n",
       "      14) Advertising < 0.5 17   42.990  7.835 *\n",
       "      15) Advertising > 0.5 30  113.400  9.765  \n",
       "        30) Income < 35 5   12.260  7.552 *\n",
       "        31) Income > 35 25   71.720 10.210  \n",
       "          62) Age < 39.5 7    7.548 11.940 *\n",
       "          63) Age > 39.5 18   35.060  9.535 *"
      ]
     },
     "metadata": {},
     "output_type": "display_data"
    }
   ],
   "source": [
    "tree.fit = tree(Carseats$Sales ~ ., data=Carseats, subset=train)# Fitting a decision tree with default parameters\n",
    "tree.fit"
   ]
  },
  {
   "cell_type": "code",
   "execution_count": 42,
   "id": "b5afd870",
   "metadata": {},
   "outputs": [
    {
     "data": {
      "image/png": "[encoded data removed]",
      "text/plain": [
       "plot without title"
      ]
     },
     "metadata": {
      "image/png": {
       "height": 420,
       "width": 420
      }
     },
     "output_type": "display_data"
    }
   ],
   "source": [
    "plot(tree.fit)  # Plotting the decision tree\n",
    "text(tree.fit, pretty=0)"
   ]
  },
  {
   "cell_type": "code",
   "execution_count": 43,
   "id": "815f0f2e",
   "metadata": {},
   "outputs": [
    {
     "data": {
      "text/html": [
       "4.91026795077293"
      ],
      "text/latex": [
       "4.91026795077293"
      ],
      "text/markdown": [
       "4.91026795077293"
      ],
      "text/plain": [
       "[1] 4.910268"
      ]
     },
     "metadata": {},
     "output_type": "display_data"
    }
   ],
   "source": [
    "yhat.dt = predict( tree.fit,  newdata=Carseats[-train,]) # Predicting on test set\n",
    "mean((yhat.dt - Carseats[-train,]$Sales)^2) # Calculating test MSE\n"
   ]
  },
  {
   "cell_type": "markdown",
   "id": "b75ab7fe",
   "metadata": {},
   "source": [
    " Tree gets a test MSE of 4.9102"
   ]
  },
  {
   "cell_type": "markdown",
   "id": "4992116e",
   "metadata": {},
   "source": [
    "### Applying Cross Validation approach to determine the optimal terminal nodes:"
   ]
  },
  {
   "cell_type": "code",
   "execution_count": 44,
   "id": "44201b0a",
   "metadata": {},
   "outputs": [
    {
     "data": {
      "text/plain": [
       "$size\n",
       " [1] 17 16 15 14 13 12 11 10  9  8  7  6  5  4  3  2  1\n",
       "\n",
       "$dev\n",
       " [1] 1329.084 1347.121 1364.654 1364.654 1350.448 1350.771 1321.314 1405.099\n",
       " [9] 1400.974 1404.145 1416.479 1463.155 1487.665 1486.232 1608.966 1830.224\n",
       "[17] 2399.382\n",
       "\n",
       "$k\n",
       " [1]      -Inf  26.52497  29.11686  29.39307  34.13814  34.59496  40.44541\n",
       " [8]  44.79934  49.69942  53.81690  61.12042  80.71971  98.42378 102.63600\n",
       "[15] 151.23040 246.31381 619.17528\n",
       "\n",
       "$method\n",
       "[1] \"deviance\"\n",
       "\n",
       "attr(,\"class\")\n",
       "[1] \"prune\"         \"tree.sequence\""
      ]
     },
     "metadata": {},
     "output_type": "display_data"
    }
   ],
   "source": [
    "cv.carseats = cv.tree(tree.fit)\n",
    "cv.carseats"
   ]
  },
  {
   "cell_type": "code",
   "execution_count": 45,
   "id": "2a33f24a",
   "metadata": {},
   "outputs": [
    {
     "data": {
      "image/png": "[encoded data removed]",
      "text/plain": [
       "plot without title"
      ]
     },
     "metadata": {
      "image/png": {
       "height": 420,
       "width": 420
      }
     },
     "output_type": "display_data"
    }
   ],
   "source": [
    "plot(cv.carseats$size,cv.carseats$dev, type=\"b\",xlab=\"Terminal Nodes\", ylab=\"Deviance\")"
   ]
  },
  {
   "cell_type": "code",
   "execution_count": 46,
   "id": "77652854",
   "metadata": {},
   "outputs": [
    {
     "data": {
      "image/png": "[encoded data removed]",
      "text/plain": [
       "plot without title"
      ]
     },
     "metadata": {
      "image/png": {
       "height": 420,
       "width": 420
      }
     },
     "output_type": "display_data"
    }
   ],
   "source": [
    "prune.carseats = prune.tree(tree.fit, best=11)# Pruning the tree based on 11 nodes\n",
    "plot(prune.carseats)  # Viewing the pruned tree\n",
    "text(prune.carseats, pretty=0)"
   ]
  },
  {
   "cell_type": "markdown",
   "id": "9ca54098",
   "metadata": {},
   "source": [
    "### Prediction from prunded tree and MSE"
   ]
  },
  {
   "cell_type": "code",
   "execution_count": 47,
   "id": "7aec348e",
   "metadata": {},
   "outputs": [
    {
     "data": {
      "text/html": [
       "5.23669567922326"
      ],
      "text/latex": [
       "5.23669567922326"
      ],
      "text/markdown": [
       "5.23669567922326"
      ],
      "text/plain": [
       "[1] 5.236696"
      ]
     },
     "metadata": {},
     "output_type": "display_data"
    }
   ],
   "source": [
    "yhat.pruned = predict(prune.carseats, newdata=Carseats[-train,])\n",
    "mean((yhat.pruned - Carseats[-train,]$Sales)^2)  # Calculated the MSE"
   ]
  },
  {
   "cell_type": "markdown",
   "id": "bce743a2",
   "metadata": {},
   "source": [
    "#### The MSE slightly increased by pruning the tree."
   ]
  },
  {
   "cell_type": "markdown",
   "id": "905c2577",
   "metadata": {},
   "source": [
    "# Resampling Methods\n",
    "\n",
    "## Use income, balance and dummy variable student to predict whether default in the Default data set(in ISLR library).\n",
    "\n",
    "\n",
    "## Estimate the test error of this logistic regression model using the validation set approach. Comment on whether or not including a dummy variable for student leads to a reduction in the test error rate."
   ]
  },
  {
   "cell_type": "code",
   "execution_count": 48,
   "id": "db8c6b71",
   "metadata": {},
   "outputs": [],
   "source": [
    "attach(Default)"
   ]
  },
  {
   "cell_type": "markdown",
   "id": "736119c9",
   "metadata": {},
   "source": [
    "### Logistic Regression with only \"Income\" & \"Balance\""
   ]
  },
  {
   "cell_type": "markdown",
   "id": "42f88c57",
   "metadata": {},
   "source": [
    "### Splitting data into 75:25 train & test  data."
   ]
  },
  {
   "cell_type": "code",
   "execution_count": 49,
   "id": "3addfea4",
   "metadata": {},
   "outputs": [],
   "source": [
    "\n",
    "default1 = function() { #Creating a function to fit logistic regression and return test error.\n",
    "train = sample(nrow(Default), (nrow(Default)*3)/4) #Train data set\n",
    "test = Default[-train,]  #Test Data set\n",
    "glm.fit1 = glm(default ~ income + balance, data=Default, family=binomial, subset=train) #Fitting logistic regression\n",
    "probs = predict(glm.fit1,test, type=\"response\")\n",
    "preds = rep(\"No\", nrow(test))\n",
    "preds[probs > 0.5] = \"Yes\"\n",
    "    \n",
    "return (mean(preds != test)) #Test errors\n",
    "}"
   ]
  },
  {
   "cell_type": "markdown",
   "id": "1e62fb60",
   "metadata": {},
   "source": [
    "## Test Error"
   ]
  },
  {
   "cell_type": "code",
   "execution_count": 50,
   "id": "6f02eff1",
   "metadata": {},
   "outputs": [
    {
     "name": "stdout",
     "output_type": "stream",
     "text": [
      "[1] 0.5795\n",
      "[1] 0.5841\n",
      "[1] 0.5775\n",
      "[1] 0.581\n",
      "[1] 0.5808\n",
      "[1] 0.5792\n",
      "[1] 0.5817\n",
      "[1] 0.582\n",
      "[1] 0.5838\n",
      "[1] 0.5807\n"
     ]
    }
   ],
   "source": [
    "for (i in 1:10){ #Run logistic regression on 10 different datasets.\n",
    "    print(default1()) #Reports test error for each sample.\n",
    "}"
   ]
  },
  {
   "cell_type": "markdown",
   "id": "c0924e1e",
   "metadata": {},
   "source": [
    "### Logistic Regression with  \"Income\", \"Balance\" & \"Student\""
   ]
  },
  {
   "cell_type": "markdown",
   "id": "fcc7de04",
   "metadata": {},
   "source": [
    "### Splitting data into 75:25 train & test  data."
   ]
  },
  {
   "cell_type": "code",
   "execution_count": 51,
   "id": "f8b66595",
   "metadata": {},
   "outputs": [],
   "source": [
    "default2 = function() {\n",
    "train = sample(nrow(Default), (nrow(Default)*3)/4)\n",
    "test = Default[-train,]\n",
    "glm.fit2 = glm(default ~ income + balance + student, data=Default, family=binomial, subset=train) #with Student\n",
    "probs = predict(glm.fit2,test, type=\"response\")\n",
    "preds = rep(\"No\", nrow(test))\n",
    "preds[probs > 0.5] = \"Yes\"\n",
    "    \n",
    "return (mean(preds != test))\n",
    "}"
   ]
  },
  {
   "cell_type": "markdown",
   "id": "fec76f9e",
   "metadata": {},
   "source": [
    "## Test Error"
   ]
  },
  {
   "cell_type": "code",
   "execution_count": 52,
   "id": "94a21272",
   "metadata": {},
   "outputs": [
    {
     "name": "stdout",
     "output_type": "stream",
     "text": [
      "[1] 0.5803\n",
      "[1] 0.5792\n",
      "[1] 0.5811\n",
      "[1] 0.5759\n",
      "[1] 0.5828\n",
      "[1] 0.5822\n",
      "[1] 0.5806\n",
      "[1] 0.5742\n",
      "[1] 0.5794\n",
      "[1] 0.5769\n"
     ]
    }
   ],
   "source": [
    "for (i in 1:10){\n",
    "    print(default2())\n",
    "}"
   ]
  },
  {
   "cell_type": "markdown",
   "id": "18fc6e16",
   "metadata": {},
   "source": [
    "#### With or without including student into the variables to predict default, the test error remains same.  So, including student as additional paramenter in the model does not add value to model."
   ]
  }
 ],
 "metadata": {
  "celltoolbar": "Raw Cell Format",
  "kernelspec": {
   "display_name": "R",
   "language": "R",
   "name": "ir"
  },
  "language_info": {
   "codemirror_mode": "r",
   "file_extension": ".r",
   "mimetype": "text/x-r-source",
   "name": "R",
   "pygments_lexer": "r",
   "version": "4.5.0"
  }
 },
 "nbformat": 4,
 "nbformat_minor": 5
}
